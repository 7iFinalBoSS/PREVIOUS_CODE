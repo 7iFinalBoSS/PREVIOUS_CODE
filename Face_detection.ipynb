{
 "cells": [
  {
   "cell_type": "code",
   "execution_count": 1,
   "id": "fdc25b33",
   "metadata": {},
   "outputs": [],
   "source": [
    "import cv2\n",
    "\n",
    "\n",
    "face_detector = cv2.CascadeClassifier(\"C:\\\\Users\\\\Lenovo\\\\Desktop\\\\450 in 62\\\\haarcascade_frontalface_default.xml\")\n",
    "\n",
    "\n",
    "video_capture = cv2.VideoCapture(0)\n",
    "\n",
    "while True:\n",
    "\n",
    "  ret,frame = video_capture.read()\n",
    "\n",
    "  image_gray = cv2.cvtColor(frame,cv2.COLOR_BGR2GRAY)\n",
    "\n",
    "  detections = face_detector.detectMultiScale(image_gray,scaleFactor =1.3)\n",
    "\n",
    "  for(x,y,w,z) in detections:\n",
    "    cv2.rectangle(frame,(x,y),(x+w,y+z),(0,255,255),2)\n",
    "  cv2.imshow(\"video\", frame)\n",
    "\n",
    "  if cv2.waitKey(1) & 0xFF == ord('q'):\n",
    "    break\n",
    "\n",
    "video_capture.release()\n",
    "cv2.destroyAllWindows()"
   ]
  },
  {
   "cell_type": "code",
   "execution_count": 7,
   "id": "0da53e86",
   "metadata": {},
   "outputs": [],
   "source": [
    "import cv2\n",
    "\n",
    "face_detector = cv2.CascadeClassifier(\"C:\\\\Users\\\\Lenovo\\\\Desktop\\\\450 in 62\\\\haarcascade_frontalface_default.xml\")\n",
    "\n",
    "video_capture = cv2.VideoCapture(0)\n",
    "\n",
    "while True:\n",
    "    \n",
    "    ret,frame = video_capture.read()\n",
    "    \n",
    "    image_gray = cv2.cvtColor(frame,cv2.COLOR_BGR2GRAY)\n",
    "    \n",
    "    detections = face_detector.detectMultiScale(image_gray,scaleFactor = 1.01)\n",
    "    \n",
    "    for(x,y,w,z) in detections:\n",
    "        cv2.rectangle(frame , (x,y), (x+w,z+y),(255,255,0),2)\n",
    "    cv2.imshow(\"video\",frame)\n",
    "    \n",
    "    if cv2.waitKey(1) & 0xFF == ord('q'):\n",
    "        break\n",
    "        \n",
    "video_capture.release()\n",
    "cv2.destroyAllWindows()"
   ]
  },
  {
   "cell_type": "code",
   "execution_count": null,
   "id": "8b4dad37",
   "metadata": {},
   "outputs": [],
   "source": []
  }
 ],
 "metadata": {
  "kernelspec": {
   "display_name": "Python 3 (ipykernel)",
   "language": "python",
   "name": "python3"
  },
  "language_info": {
   "codemirror_mode": {
    "name": "ipython",
    "version": 3
   },
   "file_extension": ".py",
   "mimetype": "text/x-python",
   "name": "python",
   "nbconvert_exporter": "python",
   "pygments_lexer": "ipython3",
   "version": "3.9.7"
  }
 },
 "nbformat": 4,
 "nbformat_minor": 5
}
